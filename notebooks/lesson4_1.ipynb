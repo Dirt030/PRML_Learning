{
 "cells": [
  {
   "cell_type": "code",
   "execution_count": 1,
   "metadata": {
    "collapsed": true
   },
   "outputs": [],
   "source": [
    "import numpy as np\n",
    "import matplotlib.pyplot as plt\n",
    "\n",
    "np.random.seed(114514)"
   ]
  },
  {
   "cell_type": "markdown",
   "source": [
    "# 参数估计\n",
    "\n",
    "- 生成测试数据(一维正态分布)"
   ],
   "metadata": {
    "collapsed": false,
    "pycharm": {
     "name": "#%% md\n"
    }
   }
  },
  {
   "cell_type": "code",
   "execution_count": 2,
   "outputs": [
    {
     "name": "stdout",
     "output_type": "stream",
     "text": [
      "114 0.514\n"
     ]
    }
   ],
   "source": [
    "mu, sigma, size = 114, 0.514, 10000\n",
    "X = np.random.normal(mu, sigma, size)\n",
    "\n",
    "print(mu, sigma)"
   ],
   "metadata": {
    "collapsed": false,
    "pycharm": {
     "name": "#%%\n"
    }
   }
  },
  {
   "cell_type": "markdown",
   "source": [
    "- 最大似然估计\n",
    "\n",
    "    $\\mu_{ML} = \\frac{1}{N} \\displaystyle\\sum_{n=1}^{N}{x_n}$\n",
    "\n",
    "    $\\sigma_{ML}^{2} = \\frac{1}{N} \\displaystyle\\sum_{n=1}^{N}{(x_n-\\mu_{ML})^2}$"
   ],
   "metadata": {
    "collapsed": false
   }
  },
  {
   "cell_type": "code",
   "execution_count": 3,
   "outputs": [
    {
     "name": "stdout",
     "output_type": "stream",
     "text": [
      "114.00783796154118 0.5118032889036019\n"
     ]
    }
   ],
   "source": [
    "mu_mle = np.mean(X)\n",
    "sigma_mle = np.std(X)\n",
    "\n",
    "print(mu_mle, sigma_mle)"
   ],
   "metadata": {
    "collapsed": false,
    "pycharm": {
     "name": "#%%\n"
    }
   }
  },
  {
   "cell_type": "markdown",
   "source": [
    "- 最大后验估计\n",
    "\n",
    "    假设$\\sigma^2$已知，考虑从$N$个观测量中推断均值$\\mu$。\n",
    "\n",
    "    对于一个特定的$\\mu$，其观测数据的概率的似然函数应当为：\n",
    "\n",
    "    $p(X|\\mu) = \\displaystyle\\prod_{n=1}^{N}{p(x_n|\\mu)}\n",
    "    = \\frac{1}{(2\\pi\\sigma^2)^{N/2}} e^{ -\\frac{1}{2\\sigma^2} \\displaystyle\\sum_{n=1}^{N}{(x_n-\\mu)^2}}$。\n",
    "\n",
    "    首先，选择先验分布$p(\\mu) = \\mathcal{N}(\\mu|\\mu_0, \\sigma_0^2)$。\n",
    "\n",
    "    那么，考虑到后验分布满足$p(\\mu|X) \\propto p(X|\\mu)p(\\mu)$。\n",
    "\n",
    "    因此，可以推导出后验分布为$p(\\mu|X) = \\mathcal{N}(\\mu|\\mu_N, \\sigma_N^2)$\n",
    "\n",
    "    其中，\n",
    "\n",
    "    $\\mu_N = \\frac{\\sigma^2}{N\\sigma_0^2 + \\sigma^2} \\mu_0 + \\frac{N\\sigma_0^2}{N\\sigma_0^2 + \\sigma^2}\\mu_{ML}$\n",
    "\n",
    "    $\\frac{1}{\\sigma_N^2} = \\frac{1}{\\sigma_0^2} + \\frac{N}{\\sigma^2}$"
   ],
   "metadata": {
    "collapsed": false
   }
  },
  {
   "cell_type": "code",
   "execution_count": 4,
   "outputs": [
    {
     "name": "stdout",
     "output_type": "stream",
     "text": [
      "114.0048259996402\n"
     ]
    }
   ],
   "source": [
    "mu_0, sigma_0 = 0, 1\n",
    "\n",
    "v, v_0 = sigma**2, sigma_0 **2\n",
    "mu_map = v / (size*v_0 + v) * mu_0 + size * v_0 / (size * v_0 + v) * mu_mle\n",
    "\n",
    "print(mu_map)"
   ],
   "metadata": {
    "collapsed": false,
    "pycharm": {
     "name": "#%%\n"
    }
   }
  }
 ],
 "metadata": {
  "kernelspec": {
   "name": "pycharm-daf19cc0",
   "language": "python",
   "display_name": "PyCharm (PRML_Learning)"
  },
  "language_info": {
   "codemirror_mode": {
    "name": "ipython",
    "version": 2
   },
   "file_extension": ".py",
   "mimetype": "text/x-python",
   "name": "python",
   "nbconvert_exporter": "python",
   "pygments_lexer": "ipython2",
   "version": "2.7.6"
  }
 },
 "nbformat": 4,
 "nbformat_minor": 0
}